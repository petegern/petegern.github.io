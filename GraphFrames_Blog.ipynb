{
 "cells": [
  {
   "cell_type": "markdown",
   "metadata": {},
   "source": [
    "## Set Parameters"
   ]
  },
  {
   "cell_type": "code",
   "execution_count": null,
   "metadata": {
    "collapsed": true
   },
   "outputs": [],
   "source": [
    "NN = 7 # Number of nearest neighbours for each city\n",
    "spark.conf.set(\"spark.sql.shuffle.partitions\", \"4\")"
   ]
  },
  {
   "cell_type": "markdown",
   "metadata": {},
   "source": [
    "## Imports"
   ]
  },
  {
   "cell_type": "code",
   "execution_count": null,
   "metadata": {
    "collapsed": true
   },
   "outputs": [],
   "source": [
    "from graphframes import GraphFrame"
   ]
  },
  {
   "cell_type": "code",
   "execution_count": null,
   "metadata": {
    "collapsed": false
   },
   "outputs": [],
   "source": [
    "from pyspark.sql.types import *\n",
    "from pyspark.sql.functions import *\n",
    "import math"
   ]
  },
  {
   "cell_type": "markdown",
   "metadata": {},
   "source": [
    "## Load and adjust basic DataFrame"
   ]
  },
  {
   "cell_type": "code",
   "execution_count": null,
   "metadata": {
    "collapsed": false
   },
   "outputs": [],
   "source": [
    "citiesDFSchema = StructType([\n",
    "  StructField(\"city\", StringType(), False),\n",
    "  StructField(\"city_ascii\", StringType(), True),\n",
    "  StructField(\"latitude\", FloatType(), False),\n",
    "  StructField(\"longitude\", FloatType(), False),\n",
    "  StructField(\"country\", StringType(), True),\n",
    "  StructField(\"iso2\", StringType(), True),\n",
    "  StructField(\"iso3\", StringType(), True),\n",
    "  StructField(\"admin_name\", StringType(), True),\n",
    "  StructField(\"capital\", StringType(), True),\n",
    "  StructField(\"population\", FloatType(), True),\n",
    "  StructField(\"id\", LongType(), True)\n",
    "])"
   ]
  },
  {
   "cell_type": "code",
   "execution_count": null,
   "metadata": {
    "collapsed": false,
    "scrolled": false
   },
   "outputs": [],
   "source": [
    "citiesDF = spark.read.format(\"csv\")\\\n",
    "  .option(\"sep\", \",\")\\\n",
    "  .option(\"inferSchema\", \"true\")\\\n",
    "  .option(\"header\", \"true\")\\\n",
    "  .schema(citiesDFSchema)\\\n",
    "  .load(\"/Users/petergerngross/Programming/Data/csv/Graph/simplemaps_worldcities_basicv1/worldcities.csv\")\\\n",
    "  .drop(\"population\")\\\n",
    "  .drop(\"id\")\\\n",
    "  .drop(\"city_ascii\")\\\n",
    "  .drop(\"country\")\\\n",
    "  .drop(\"iso3\")\\\n",
    "  .drop(\"admin_name\")\\\n",
    "  .withColumnRenamed(\"city\", \"id\")\\\n",
    "  .withColumn(\"capNum\", when(col(\"capital\") == \"primary\", 4)\\\n",
    "                        .when(col(\"capital\") == \"admin\", 3)\\\n",
    "                        .when(col(\"capital\") == \"minor\", 2)\\\n",
    "                        .otherwise(1))\\\n",
    "  .drop(\"capital\")\\\n",
    "  .where(\"capNum != 1\")\\\n",
    "  .drop(\"capNum\")\n",
    "  \n",
    "\n",
    "citiesDF.printSchema()"
   ]
  },
  {
   "cell_type": "code",
   "execution_count": null,
   "metadata": {
    "collapsed": false
   },
   "outputs": [],
   "source": [
    "citiesDF.show(10)"
   ]
  },
  {
   "cell_type": "code",
   "execution_count": null,
   "metadata": {
    "collapsed": false
   },
   "outputs": [],
   "source": [
    "citiesDF.count()"
   ]
  },
  {
   "cell_type": "markdown",
   "metadata": {},
   "source": [
    "## Function for calculating distances from geographic coordinates"
   ]
  },
  {
   "cell_type": "code",
   "execution_count": null,
   "metadata": {
    "collapsed": false
   },
   "outputs": [],
   "source": [
    "def deg2rad(degrees):\n",
    "  return math.pi * degrees / 180\n",
    "\n",
    "def geoDistFlat(phi1, lambda1, phi2, lambda2):\n",
    "  phiMRad = deg2rad((phi1 + phi2) / 2)\n",
    "  k1 = 111.13209 - 0.56605 * math.cos(2 * phiMRad) + 0.00120 * math.cos(4 * phiMRad)\n",
    "  k2 = 111.41513 * math.cos(phiMRad) - 0.09455 * math.cos(3 * phiMRad) + 0.00012 * math.cos(5 * phiMRad)\n",
    "  return math.sqrt(math.pow(k1 * (phi2 - phi1), 2) + math.pow(k2 * (lambda2 - lambda1), 2))"
   ]
  },
  {
   "cell_type": "markdown",
   "metadata": {},
   "source": [
    "### Register the function in Spark"
   ]
  },
  {
   "cell_type": "code",
   "execution_count": null,
   "metadata": {
    "collapsed": false
   },
   "outputs": [],
   "source": [
    "geoDistUDF = udf(geoDistFlat)"
   ]
  },
  {
   "cell_type": "markdown",
   "metadata": {},
   "source": [
    "## Create Edges DataFrame"
   ]
  },
  {
   "cell_type": "code",
   "execution_count": null,
   "metadata": {
    "collapsed": false
   },
   "outputs": [],
   "source": [
    "cities1DF = citiesDF\\\n",
    "  .drop(\"iso2\")\\\n",
    "  .withColumnRenamed(\"id\", \"src\")\\\n",
    "  .withColumnRenamed(\"latitude\", \"latSrc\")\\\n",
    "  .withColumnRenamed(\"longitude\", \"longSrc\")\n",
    "    \n",
    "cities2DF = cities1DF\\\n",
    "  .withColumnRenamed(\"src\", \"dst\")\\\n",
    "  .withColumnRenamed(\"latSrc\", \"latDst\")\\\n",
    "  .withColumnRenamed(\"longSrc\", \"longDst\")"
   ]
  },
  {
   "cell_type": "code",
   "execution_count": null,
   "metadata": {
    "collapsed": false
   },
   "outputs": [],
   "source": [
    "cityConnectsDF = cities1DF.crossJoin(cities2DF)\\\n",
    "  .where(\"src != dst\")\\\n",
    "  .withColumn(\"cityDistance\", round(geoDistUDF(col(\"latSrc\"), col(\"longSrc\"), col(\"latDst\"), col(\"longDst\"))).cast(\"int\"))\\\n",
    "  .select(\"src\", \"dst\", \"cityDistance\")"
   ]
  },
  {
   "cell_type": "code",
   "execution_count": null,
   "metadata": {
    "collapsed": false
   },
   "outputs": [],
   "source": [
    "cityConnectsDF.printSchema()"
   ]
  },
  {
   "cell_type": "code",
   "execution_count": null,
   "metadata": {
    "collapsed": false
   },
   "outputs": [],
   "source": [
    "from pyspark.sql.window import Window\n",
    "from pyspark.sql.functions import rank, col\n",
    "\n",
    "window = Window.partitionBy(cityConnectsDF[\"src\"]).orderBy(cityConnectsDF[\"cityDistance\"])\n",
    "\n",
    "cityConnectsNNDF = cityConnectsDF.select('*', rank().over(window).alias('rank'))\\\n",
    "  .filter(col('rank') <= NN)\\\n",
    "  .drop(col(\"rank\"))"
   ]
  },
  {
   "cell_type": "code",
   "execution_count": null,
   "metadata": {
    "collapsed": false
   },
   "outputs": [],
   "source": [
    "cityConnectsNNDF.count()"
   ]
  },
  {
   "cell_type": "code",
   "execution_count": null,
   "metadata": {
    "collapsed": false
   },
   "outputs": [],
   "source": [
    "cityConnectsNNDF.where(\"src = 'Berlin' OR dst = 'Berlin'\").show()"
   ]
  },
  {
   "cell_type": "markdown",
   "metadata": {},
   "source": [
    "## Create and modify GraphFrames"
   ]
  },
  {
   "cell_type": "code",
   "execution_count": null,
   "metadata": {
    "collapsed": false
   },
   "outputs": [],
   "source": [
    "cityGraph = GraphFrame(citiesDF, cityConnectsNNDF)\n",
    "cityGraph.cache()"
   ]
  },
  {
   "cell_type": "code",
   "execution_count": null,
   "metadata": {
    "collapsed": false
   },
   "outputs": [],
   "source": [
    "print(\"The cityGraph has \"\\\n",
    "      + str(cityGraph.vertices.count()) + \" nodes and \"\\\n",
    "      + str(cityGraph.edges.count()) + \" edges.\")"
   ]
  },
  {
   "cell_type": "code",
   "execution_count": null,
   "metadata": {
    "collapsed": false
   },
   "outputs": [],
   "source": [
    "citySubgraph = cityGraph.filterVertices(\"iso2 IN ('DE','AT','CH')\")\n",
    "print(\"The citySubgraph has \"\\\n",
    "      + str(citySubgraph.vertices.count()) + \" nodes and \"\\\n",
    "      + str(citySubgraph.edges.count()) + \" edges.\")"
   ]
  },
  {
   "cell_type": "code",
   "execution_count": null,
   "metadata": {
    "collapsed": true
   },
   "outputs": [],
   "source": []
  },
  {
   "cell_type": "code",
   "execution_count": null,
   "metadata": {
    "collapsed": false
   },
   "outputs": [],
   "source": [
    "citySubgraph.outDegrees.where(\"id IN ('Frankfurt','Stralsund')\").show()"
   ]
  },
  {
   "cell_type": "markdown",
   "metadata": {},
   "source": [
    "## Shortest Paths with BFS"
   ]
  },
  {
   "cell_type": "code",
   "execution_count": null,
   "metadata": {
    "collapsed": false
   },
   "outputs": [],
   "source": [
    "paths = citySubgraph.bfs(\"id = 'Frankfurt'\", \"id = 'Basel'\")"
   ]
  },
  {
   "cell_type": "code",
   "execution_count": null,
   "metadata": {
    "collapsed": false
   },
   "outputs": [],
   "source": [
    "paths.printSchema()"
   ]
  },
  {
   "cell_type": "code",
   "execution_count": null,
   "metadata": {
    "collapsed": false
   },
   "outputs": [],
   "source": [
    "paths.select(concat(col(\"from.id\"), lit(\", \")\\\n",
    "              ,col(\"v1.id\"), lit(\", \")\\\n",
    "              ,col(\"v2.id\"), lit(\", \")\\\n",
    "              ,col(\"v3.id\"), lit(\", \")\\\n",
    "              ,col(\"to.id\")\\\n",
    "             ).alias(\"path\"),\\\n",
    "             (col(\"e0.cityDistance\")\\\n",
    "             + col(\"e1.cityDistance\")\\\n",
    "             + col(\"e2.cityDistance\")\\\n",
    "             + col(\"e3.cityDistance\"))\\\n",
    "             .alias(\"totalDistance\")\\\n",
    "            ).show(3,False)"
   ]
  },
  {
   "cell_type": "code",
   "execution_count": null,
   "metadata": {
    "collapsed": true
   },
   "outputs": [],
   "source": []
  }
 ],
 "metadata": {
  "kernelspec": {
   "display_name": "Python 3",
   "language": "python",
   "name": "python3"
  },
  "language_info": {
   "codemirror_mode": {
    "name": "ipython",
    "version": 3
   },
   "file_extension": ".py",
   "mimetype": "text/x-python",
   "name": "python",
   "nbconvert_exporter": "python",
   "pygments_lexer": "ipython3",
   "version": "3.6.0"
  }
 },
 "nbformat": 4,
 "nbformat_minor": 2
}
